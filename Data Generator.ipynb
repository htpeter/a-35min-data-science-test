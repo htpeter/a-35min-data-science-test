{
 "cells": [
  {
   "cell_type": "markdown",
   "metadata": {},
   "source": [
    "# Overview\n",
    "\n",
    "This notebook generates fake data for a few of the questions! If you can reverse engineer it within 35 minutes, props to you. Otherwise, still props to you. It means you can read code and know enough math to understand whats going on! I'd say thats pretty great."
   ]
  },
  {
   "cell_type": "code",
   "execution_count": 6,
   "metadata": {},
   "outputs": [],
   "source": [
    "import random\n",
    "\n",
    "import numpy as np\n",
    "import pandas as pd\n",
    "from faker import Faker\n",
    "fake = Faker()"
   ]
  },
  {
   "cell_type": "markdown",
   "metadata": {},
   "source": [
    "### Q3 Data Generation"
   ]
  },
  {
   "cell_type": "code",
   "execution_count": 125,
   "metadata": {},
   "outputs": [],
   "source": [
    "Q3_FILE = './data/Q3-Sentence-Classifier-Results.pickle'"
   ]
  },
  {
   "cell_type": "code",
   "execution_count": 81,
   "metadata": {},
   "outputs": [],
   "source": [
    "fake_cateogories = [\"class_\" + str(i) for i in range(1,10)]"
   ]
  },
  {
   "cell_type": "code",
   "execution_count": 118,
   "metadata": {},
   "outputs": [],
   "source": [
    "def generate_probability(val):\n",
    "    return np.random.uniform(0, val)\n",
    "\n",
    "def generate_fake_category_data(fake_cats):\n",
    "    \"\"\"\n",
    "    Sorry, but limited comments because I want you to struggle a little.\n",
    "    \"\"\"\n",
    "    # some variables we use to help you figure out whats going on\n",
    "    MEAN_OF_PRIMARY_CLASS_DIST = .73\n",
    "    STD_OF_DIST = .25\n",
    "    \n",
    "    # what will be returned or updated\n",
    "    probabilities = {}\n",
    "    classes = fake_cats.copy()\n",
    "    total_probs = 0\n",
    "    \n",
    "    # select primary class\n",
    "    primary_class = random.choice(classes)\n",
    "    # generate a probability for this class\n",
    "    prob = np.random.normal(loc = MEAN_OF_PRIMARY_CLASS_DIST, \n",
    "                            scale = STD_OF_DIST,\n",
    "                            size = 1)\n",
    "    \n",
    "    # regenerate until its less than 1\n",
    "    while prob > 1:\n",
    "        prob = np.random.normal(loc = MEAN_OF_PRIMARY_CLASS_DIST, \n",
    "                            scale = STD_OF_DIST,\n",
    "                            size = 1)\n",
    "        \n",
    "    classes.remove(primary_class)\n",
    "    total_probs += prob\n",
    "        \n",
    "    probabilities[primary_class] = prob\n",
    "    \n",
    "    for remaining in classes:\n",
    "        prob_left = 1 - total_probs\n",
    "        prob = generate_probability(prob_left)\n",
    "        probabilities[remaining] = prob\n",
    "        total_probs += prob\n",
    "        \n",
    "    return probabilities, primary_class"
   ]
  },
  {
   "cell_type": "code",
   "execution_count": 120,
   "metadata": {},
   "outputs": [],
   "source": [
    "q3_df = pd.DataFrame()\n",
    "\n",
    "for i in range(1,101):\n",
    "    id = i\n",
    "    proba_data, primary_class = generate_fake_category_data(fake_cateogories)\n",
    "    q3_df = q3_df.append(\n",
    "        pd.DataFrame({\n",
    "            'id' : [id],\n",
    "            'predicted_class' : [primary_class],\n",
    "            'probabiltiies' : [proba_data],\n",
    "        })\n",
    "    )\n",
    "    "
   ]
  },
  {
   "cell_type": "code",
   "execution_count": 121,
   "metadata": {},
   "outputs": [
    {
     "data": {
      "text/html": [
       "<div>\n",
       "<style scoped>\n",
       "    .dataframe tbody tr th:only-of-type {\n",
       "        vertical-align: middle;\n",
       "    }\n",
       "\n",
       "    .dataframe tbody tr th {\n",
       "        vertical-align: top;\n",
       "    }\n",
       "\n",
       "    .dataframe thead th {\n",
       "        text-align: right;\n",
       "    }\n",
       "</style>\n",
       "<table border=\"1\" class=\"dataframe\">\n",
       "  <thead>\n",
       "    <tr style=\"text-align: right;\">\n",
       "      <th></th>\n",
       "      <th>id</th>\n",
       "      <th>predicted_class</th>\n",
       "      <th>probabiltiies</th>\n",
       "    </tr>\n",
       "  </thead>\n",
       "  <tbody>\n",
       "    <tr>\n",
       "      <th>0</th>\n",
       "      <td>1</td>\n",
       "      <td>class_2</td>\n",
       "      <td>{'class_2': [0.3533305773694005], 'class_1': [...</td>\n",
       "    </tr>\n",
       "    <tr>\n",
       "      <th>0</th>\n",
       "      <td>2</td>\n",
       "      <td>class_7</td>\n",
       "      <td>{'class_7': [0.38052855481168385], 'class_1': ...</td>\n",
       "    </tr>\n",
       "    <tr>\n",
       "      <th>0</th>\n",
       "      <td>3</td>\n",
       "      <td>class_5</td>\n",
       "      <td>{'class_5': [0.8419462635478986], 'class_1': [...</td>\n",
       "    </tr>\n",
       "    <tr>\n",
       "      <th>0</th>\n",
       "      <td>4</td>\n",
       "      <td>class_5</td>\n",
       "      <td>{'class_5': [0.4921276935727816], 'class_1': [...</td>\n",
       "    </tr>\n",
       "    <tr>\n",
       "      <th>0</th>\n",
       "      <td>5</td>\n",
       "      <td>class_7</td>\n",
       "      <td>{'class_7': [0.6194199157426794], 'class_1': [...</td>\n",
       "    </tr>\n",
       "  </tbody>\n",
       "</table>\n",
       "</div>"
      ],
      "text/plain": [
       "   id predicted_class                                      probabiltiies\n",
       "0   1         class_2  {'class_2': [0.3533305773694005], 'class_1': [...\n",
       "0   2         class_7  {'class_7': [0.38052855481168385], 'class_1': ...\n",
       "0   3         class_5  {'class_5': [0.8419462635478986], 'class_1': [...\n",
       "0   4         class_5  {'class_5': [0.4921276935727816], 'class_1': [...\n",
       "0   5         class_7  {'class_7': [0.6194199157426794], 'class_1': [..."
      ]
     },
     "execution_count": 121,
     "metadata": {},
     "output_type": "execute_result"
    }
   ],
   "source": [
    "q3_df.head()"
   ]
  },
  {
   "cell_type": "code",
   "execution_count": 126,
   "metadata": {},
   "outputs": [],
   "source": [
    "q3_df.to_pickle(Q3_FILE)"
   ]
  },
  {
   "cell_type": "code",
   "execution_count": null,
   "metadata": {},
   "outputs": [],
   "source": []
  }
 ],
 "metadata": {
  "kernelspec": {
   "display_name": "Python 3",
   "language": "python",
   "name": "python3"
  },
  "language_info": {
   "codemirror_mode": {
    "name": "ipython",
    "version": 3
   },
   "file_extension": ".py",
   "mimetype": "text/x-python",
   "name": "python",
   "nbconvert_exporter": "python",
   "pygments_lexer": "ipython3",
   "version": "3.6.6"
  }
 },
 "nbformat": 4,
 "nbformat_minor": 2
}
